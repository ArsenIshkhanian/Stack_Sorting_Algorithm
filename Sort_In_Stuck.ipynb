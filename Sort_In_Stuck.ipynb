{
 "cells": [
  {
   "cell_type": "markdown",
   "id": "e5818f56-2c21-4c05-9f3a-939288862686",
   "metadata": {},
   "source": [
    "# Stack Sorting Algorithm\n",
    "\n",
    "This function sorts a stack (represented as a list) in ascending order using an auxiliary stack.\n",
    "\n",
    "**How it works:**\n",
    "\n",
    "- Pop elements from the original stack one by one.\n",
    "- Use a temporary stack to keep elements sorted.\n",
    "- If the top of the temporary stack is greater than the current element, pop from the temp stack back to the original stack.\n",
    "- Finally, the temporary stack will contain all elements sorted with the smallest on top.\n",
    "\n",
    "---\n",
    "\n",
    "**Input:**  \n",
    "`original_stack` - a list used as a stack (the last element is the top of the stack).\n",
    "\n",
    "**Output:**  \n",
    "Returns a sorted stack as a list with smallest elements on top."
   ]
  },
  {
   "cell_type": "code",
   "execution_count": 11,
   "id": "ba271cd9-d6e6-46b3-9179-a5ee824f7ce5",
   "metadata": {},
   "outputs": [],
   "source": [
    "def sorted_by_stuck(original_stuck):\n",
    "    temp_stuck = []\n",
    "    while original_stuck:\n",
    "        print(f\"temporary stuck = {temp_stuck}\")\n",
    "        print(f\"original stuck = {original_stuck}\")\n",
    "        print('\\n')\n",
    "\n",
    "        tmp = original_stuck.pop()\n",
    "        \n",
    "        while temp_stuck and temp_stuck[-1] > tmp:\n",
    "            original_stuck.append(temp_stuck.pop())\n",
    "\n",
    "        temp_stuck.append(tmp)\n",
    "        \n",
    "    return temp_stuck"
   ]
  },
  {
   "cell_type": "code",
   "execution_count": 12,
   "id": "f2c323c5-dff7-42cf-8b95-de45aebf4bb9",
   "metadata": {},
   "outputs": [],
   "source": [
    "original_stuck = [3, 1, 4, 2]"
   ]
  },
  {
   "cell_type": "code",
   "execution_count": 13,
   "id": "7ed85ae8-99b8-48c9-a2eb-e8479b7a0395",
   "metadata": {},
   "outputs": [
    {
     "name": "stdout",
     "output_type": "stream",
     "text": [
      "temporary stuck = []\n",
      "original stuck = [3, 1, 4, 2]\n",
      "\n",
      "\n",
      "temporary stuck = [2]\n",
      "original stuck = [3, 1, 4]\n",
      "\n",
      "\n",
      "temporary stuck = [2, 4]\n",
      "original stuck = [3, 1]\n",
      "\n",
      "\n",
      "temporary stuck = [1]\n",
      "original stuck = [3, 4, 2]\n",
      "\n",
      "\n",
      "temporary stuck = [1, 2]\n",
      "original stuck = [3, 4]\n",
      "\n",
      "\n",
      "temporary stuck = [1, 2, 4]\n",
      "original stuck = [3]\n",
      "\n",
      "\n",
      "temporary stuck = [1, 2, 3]\n",
      "original stuck = [4]\n",
      "\n",
      "\n"
     ]
    }
   ],
   "source": [
    "sorted_arr = sorted_by_stuck(original_stuck)"
   ]
  },
  {
   "cell_type": "code",
   "execution_count": 14,
   "id": "4179b632-b3a0-43cb-8517-f31afe6f5de6",
   "metadata": {},
   "outputs": [
    {
     "data": {
      "text/plain": [
       "[1, 2, 3, 4]"
      ]
     },
     "execution_count": 14,
     "metadata": {},
     "output_type": "execute_result"
    }
   ],
   "source": [
    "sorted_arr"
   ]
  }
 ],
 "metadata": {
  "kernelspec": {
   "display_name": "Python 3 (ipykernel)",
   "language": "python",
   "name": "python3"
  },
  "language_info": {
   "codemirror_mode": {
    "name": "ipython",
    "version": 3
   },
   "file_extension": ".py",
   "mimetype": "text/x-python",
   "name": "python",
   "nbconvert_exporter": "python",
   "pygments_lexer": "ipython3",
   "version": "3.12.0"
  }
 },
 "nbformat": 4,
 "nbformat_minor": 5
}
